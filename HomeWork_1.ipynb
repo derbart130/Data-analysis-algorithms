{
 "cells": [
  {
   "cell_type": "markdown",
   "metadata": {},
   "source": [
    "# Home Work 1"
   ]
  },
  {
   "cell_type": "code",
   "execution_count": 1,
   "metadata": {},
   "outputs": [],
   "source": [
    "import numpy as np"
   ]
  },
  {
   "cell_type": "markdown",
   "metadata": {},
   "source": [
    "### Задание 1. Подберите скорость обучения (eta) и количество итераций"
   ]
  },
  {
   "cell_type": "code",
   "execution_count": 2,
   "metadata": {},
   "outputs": [],
   "source": [
    "X = np.array([[ 1,  1],\n",
    "              [ 1,  1],\n",
    "              [ 1,  2],\n",
    "              [ 1,  5],\n",
    "              [ 1,  3],\n",
    "              [ 1,  0],\n",
    "              [ 1,  5],\n",
    "              [ 1, 10],\n",
    "              [ 1,  1],\n",
    "              [ 1,  2]])"
   ]
  },
  {
   "cell_type": "code",
   "execution_count": 3,
   "metadata": {},
   "outputs": [],
   "source": [
    "y = [45, 55, 50, 55, 60, 35, 75, 80, 50, 60]"
   ]
  },
  {
   "cell_type": "code",
   "execution_count": 4,
   "metadata": {},
   "outputs": [],
   "source": [
    "def calc_mae(y, y_pred):\n",
    "    err = np.mean(np.abs(y - y_pred))\n",
    "    return err\n",
    "\n",
    "def calc_mse(y, y_pred):\n",
    "    err = np.mean((y - y_pred)**2)\n",
    "    return err"
   ]
  },
  {
   "cell_type": "code",
   "execution_count": 5,
   "metadata": {},
   "outputs": [
    {
     "name": "stdout",
     "output_type": "stream",
     "text": [
      "Number of objects = 10        \n",
      "Learning rate = 0.01        \n",
      "Initial weights = [1.  0.5] \n",
      "\n",
      "Iteration #0: W_new = [2.08 4.27], MSE = 3047.75, eta = 0.00971\n",
      "Iteration #50: W_new = [18.33530198  8.65906527], MSE = 386.46, eta = 0.00943\n",
      "Iteration #100: W_new = [27.7053698   6.95994795], MSE = 188.34, eta = 0.00915\n",
      "Iteration #150: W_new = [33.64723993  5.88248141], MSE = 106.38, eta = 0.00888\n",
      "Iteration #200: W_new = [37.46245676  5.19065066], MSE = 71.62, eta = 0.00863\n",
      "Iteration #250: W_new = [39.94199952  4.74102381], MSE = 56.51, eta = 0.00837\n",
      "Iteration #300: W_new = [41.57251781  4.44535446], MSE = 49.79, eta = 0.00813\n",
      "Iteration #350: W_new = [42.65702248  4.24869626], MSE = 46.73, eta = 0.00789\n",
      "Iteration #400: W_new = [43.38638475  4.11643766], MSE = 45.31, eta = 0.00766\n",
      "Iteration #450: W_new = [43.88220017  4.02652918], MSE = 44.63, eta = 0.00744\n",
      "Iteration #500: W_new = [44.22278443  3.96476947], MSE = 44.31, eta = 0.00722\n"
     ]
    }
   ],
   "source": [
    "n = X.shape[0]\n",
    "\n",
    "eta = 1e-2\n",
    "\n",
    "# ИЗМЕНЕНИЯ\n",
    "n_iter = 500\n",
    "\n",
    "W = np.array([1, 0.5])\n",
    "print(f'Number of objects = {n} \\\n",
    "       \\nLearning rate = {eta} \\\n",
    "       \\nInitial weights = {W} \\n')\n",
    "\n",
    "for i in range(n_iter + 1):\n",
    "    y_pred = np.dot(X, W)\n",
    "    err = calc_mse(y, y_pred)\n",
    "    for k in range(W.shape[0]):\n",
    "        W[k] -= eta * (1/n * 2 * X[:, k] @ (y_pred - y))\n",
    "    if i % 50 == 0:\n",
    "        # ИЗМЕНЕНИЯ\n",
    "        eta /= 1.03\n",
    "        print(f'Iteration #{i}: W_new = {W}, MSE = {round(err, 2)}, eta = {round(eta, 5)}')"
   ]
  },
  {
   "cell_type": "markdown",
   "metadata": {},
   "source": [
    "### Задача 2*. В этом коде мы избавляемся от итераций по весам, но тут есть ошибка, исправьте ее"
   ]
  },
  {
   "cell_type": "code",
   "execution_count": 6,
   "metadata": {
    "scrolled": true
   },
   "outputs": [
    {
     "name": "stdout",
     "output_type": "stream",
     "text": [
      "Number of objects = 10        \n",
      "Learning rate = 0.01        \n",
      "Initial weights = [1.  0.5] \n",
      "\n",
      "Iteration #0: W_new = [2.08 4.27], MSE = 3047.75\n",
      "Iteration #50: W_new = [18.69110735  8.59454545], MSE = 377.58\n",
      "Iteration #100: W_new = [28.38281518  6.83710367], MSE = 177.43\n",
      "Iteration #150: W_new = [34.51273915  5.72553647], MSE = 97.36\n",
      "Iteration #200: W_new = [38.38986469  5.02247953], MSE = 65.33\n",
      "Iteration #250: W_new = [40.84211409  4.57780191], MSE = 52.51\n",
      "Iteration #300: W_new = [42.39314129  4.29654705], MSE = 47.39\n",
      "Iteration #350: W_new = [43.37415299  4.1186557 ], MSE = 45.34\n",
      "Iteration #400: W_new = [43.99463466  4.00614091], MSE = 44.52\n",
      "Iteration #450: W_new = [44.38708413  3.93497626], MSE = 44.19\n",
      "Iteration #500: W_new = [44.63530512  3.8899652 ], MSE = 44.06\n"
     ]
    }
   ],
   "source": [
    "n = X.shape[0]\n",
    "\n",
    "eta = 1e-2 \n",
    "n_iter = 500\n",
    "\n",
    "W = np.array([1, 0.5])\n",
    "print(f'Number of objects = {n} \\\n",
    "       \\nLearning rate = {eta} \\\n",
    "       \\nInitial weights = {W} \\n')\n",
    "\n",
    "for i in range(n_iter + 1):\n",
    "    y_pred = np.dot(X, W)\n",
    "    err = calc_mse(y, y_pred)\n",
    "\n",
    "    # ИЗМЕНЕНИЯ\n",
    "    W -= eta * (1/n * 2 * np.dot(X.T, y_pred - y))\n",
    "    if i % 50 == 0:\n",
    "        print(f'Iteration #{i}: W_new = {W}, MSE = {round(err,2)}')"
   ]
  },
  {
   "cell_type": "markdown",
   "metadata": {},
   "source": [
    "### Задача 3*. Вместо того, чтобы задавать количество итераций, задайте другое условие останова алгоритма - когда веса перестают изменяться меньше определенного порога  𝜖 ."
   ]
  },
  {
   "cell_type": "code",
   "execution_count": 7,
   "metadata": {},
   "outputs": [
    {
     "data": {
      "text/plain": [
       "(array([1. , 0.5]), 0.01)"
      ]
     },
     "execution_count": 7,
     "metadata": {},
     "output_type": "execute_result"
    }
   ],
   "source": [
    "n = X.shape[0]\n",
    "eta = 1e-2\n",
    "e = 1e-3\n",
    "W = np.array([1, 0.5])\n",
    "W, eta"
   ]
  },
  {
   "cell_type": "code",
   "execution_count": 8,
   "metadata": {},
   "outputs": [
    {
     "name": "stdout",
     "output_type": "stream",
     "text": [
      "Iteration #100: W_new = [28.22929764  6.86494171], MSE = 179.9\n",
      "Iteration #200: W_new = [38.32845066  5.03361602], MSE = 65.72\n",
      "Iteration #300: W_new = [42.36857287  4.30100215], MSE = 47.45\n",
      "Iteration #400: W_new = [43.98480618  4.00792316], MSE = 44.53\n",
      "Iteration #500: W_new = [44.63137328  3.89067818], MSE = 44.06\n",
      "\n",
      "Iteration #528: W_new = [44.72892337  3.87298898], MSE = 44.02\n"
     ]
    }
   ],
   "source": [
    "err = 1\n",
    "prev_err = 0\n",
    "i = 0\n",
    "\n",
    "\n",
    "while np.abs(err - prev_err) > e:\n",
    "    i += 1\n",
    "    y_pred = np.dot(X, W)\n",
    "    prev_err = err\n",
    "    err = calc_mse(y, y_pred)\n",
    "    W -= eta * (1/n * 2 * np.sum(X.T * (y_pred - y), axis=1))\n",
    "    if i % 100 == 0:\n",
    "        print(f'Iteration #{i}: W_new = {W}, MSE = {round(err,2)}')\n",
    "\n",
    "\n",
    "print(f'\\nIteration #{i}: W_new = {W}, MSE = {round(err,2)}')"
   ]
  }
 ],
 "metadata": {
  "kernelspec": {
   "display_name": "Python 3",
   "language": "python",
   "name": "python3"
  },
  "language_info": {
   "codemirror_mode": {
    "name": "ipython",
    "version": 3
   },
   "file_extension": ".py",
   "mimetype": "text/x-python",
   "name": "python",
   "nbconvert_exporter": "python",
   "pygments_lexer": "ipython3",
   "version": "3.7.6"
  }
 },
 "nbformat": 4,
 "nbformat_minor": 4
}
